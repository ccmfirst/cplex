{
 "cells": [
  {
   "cell_type": "code",
   "execution_count": 1,
   "metadata": {},
   "outputs": [],
   "source": [
    "import numpy as np"
   ]
  },
  {
   "cell_type": "code",
   "execution_count": 2,
   "metadata": {},
   "outputs": [],
   "source": [
    "rnd = np.random\n",
    "rnd.seed(0)"
   ]
  },
  {
   "cell_type": "code",
   "execution_count": 3,
   "metadata": {},
   "outputs": [],
   "source": [
    "n = 25\n",
    "Q = 20\n",
    "N = [i for i in range(1, n+1)]\n",
    "V = [0] + N\n",
    "q = {i:rnd.randint(1,10) for i in N}"
   ]
  },
  {
   "cell_type": "code",
   "execution_count": 4,
   "metadata": {},
   "outputs": [
    {
     "data": {
      "text/plain": [
       "{1: 6,\n",
       " 2: 1,\n",
       " 3: 4,\n",
       " 4: 4,\n",
       " 5: 8,\n",
       " 6: 4,\n",
       " 7: 6,\n",
       " 8: 3,\n",
       " 9: 5,\n",
       " 10: 8,\n",
       " 11: 7,\n",
       " 12: 9,\n",
       " 13: 9,\n",
       " 14: 2,\n",
       " 15: 7,\n",
       " 16: 8,\n",
       " 17: 8,\n",
       " 18: 9,\n",
       " 19: 2,\n",
       " 20: 6,\n",
       " 21: 9,\n",
       " 22: 5,\n",
       " 23: 4,\n",
       " 24: 1,\n",
       " 25: 4}"
      ]
     },
     "execution_count": 4,
     "metadata": {},
     "output_type": "execute_result"
    }
   ],
   "source": [
    "q"
   ]
  },
  {
   "cell_type": "code",
   "execution_count": 5,
   "metadata": {},
   "outputs": [],
   "source": [
    "loc_x = rnd.rand(len(V)) * 200\n",
    "loc_y = rnd.rand(len(V)) * 100"
   ]
  },
  {
   "cell_type": "code",
   "execution_count": 6,
   "metadata": {},
   "outputs": [],
   "source": [
    "import matplotlib.pyplot as plt"
   ]
  },
  {
   "cell_type": "code",
   "execution_count": 7,
   "metadata": {},
   "outputs": [
    {
     "data": {
      "image/png": "[encoded data removed]",
      "text/plain": [
       "<Figure size 432x288 with 1 Axes>"
      ]
     },
     "metadata": {
      "needs_background": "light"
     },
     "output_type": "display_data"
    }
   ],
   "source": [
    "plt.scatter(loc_x[1:], loc_y[1:], c='b')\n",
    "for i in N:\n",
    "    plt.annotate('$q_%d=%d$' %(i,q[i]), (loc_x[i]+2,loc_y[i]))\n",
    "plt.plot(loc_x[0], loc_y[0], c='r', marker='s')\n",
    "plt.axis('equal');"
   ]
  },
  {
   "cell_type": "code",
   "execution_count": 8,
   "metadata": {},
   "outputs": [],
   "source": [
    "A = [(i, j) for i in V for j in V if i!=j]\n",
    "c = {(i, j):np.hypot(loc_x[i]-loc_x[j], loc_y[i]-loc_y[j]) for i,j in A}"
   ]
  },
  {
   "cell_type": "code",
   "execution_count": 9,
   "metadata": {},
   "outputs": [],
   "source": [
    "from docplex.mp.model import Model"
   ]
  },
  {
   "cell_type": "code",
   "execution_count": 10,
   "metadata": {},
   "outputs": [],
   "source": [
    "md1 = Model('CVRP')"
   ]
  },
  {
   "cell_type": "code",
   "execution_count": 11,
   "metadata": {},
   "outputs": [],
   "source": [
    "x = md1.binary_var_dict(A, name='x')\n",
    "u = md1.continuous_var_dict(N, ub=Q, name='u')"
   ]
  },
  {
   "cell_type": "code",
   "execution_count": 12,
   "metadata": {},
   "outputs": [
    {
     "data": {
      "text/plain": [
       "{1: docplex.mp.Var(type=C,name='u_1',ub=20),\n",
       " 2: docplex.mp.Var(type=C,name='u_2',ub=20),\n",
       " 3: docplex.mp.Var(type=C,name='u_3',ub=20),\n",
       " 4: docplex.mp.Var(type=C,name='u_4',ub=20),\n",
       " 5: docplex.mp.Var(type=C,name='u_5',ub=20),\n",
       " 6: docplex.mp.Var(type=C,name='u_6',ub=20),\n",
       " 7: docplex.mp.Var(type=C,name='u_7',ub=20),\n",
       " 8: docplex.mp.Var(type=C,name='u_8',ub=20),\n",
       " 9: docplex.mp.Var(type=C,name='u_9',ub=20),\n",
       " 10: docplex.mp.Var(type=C,name='u_10',ub=20),\n",
       " 11: docplex.mp.Var(type=C,name='u_11',ub=20),\n",
       " 12: docplex.mp.Var(type=C,name='u_12',ub=20),\n",
       " 13: docplex.mp.Var(type=C,name='u_13',ub=20),\n",
       " 14: docplex.mp.Var(type=C,name='u_14',ub=20),\n",
       " 15: docplex.mp.Var(type=C,name='u_15',ub=20),\n",
       " 16: docplex.mp.Var(type=C,name='u_16',ub=20),\n",
       " 17: docplex.mp.Var(type=C,name='u_17',ub=20),\n",
       " 18: docplex.mp.Var(type=C,name='u_18',ub=20),\n",
       " 19: docplex.mp.Var(type=C,name='u_19',ub=20),\n",
       " 20: docplex.mp.Var(type=C,name='u_20',ub=20),\n",
       " 21: docplex.mp.Var(type=C,name='u_21',ub=20),\n",
       " 22: docplex.mp.Var(type=C,name='u_22',ub=20),\n",
       " 23: docplex.mp.Var(type=C,name='u_23',ub=20),\n",
       " 24: docplex.mp.Var(type=C,name='u_24',ub=20),\n",
       " 25: docplex.mp.Var(type=C,name='u_25',ub=20)}"
      ]
     },
     "execution_count": 12,
     "metadata": {},
     "output_type": "execute_result"
    }
   ],
   "source": [
    "u"
   ]
  },
  {
   "cell_type": "code",
   "execution_count": 13,
   "metadata": {},
   "outputs": [
    {
     "name": "stdout",
     "output_type": "stream",
     "text": [
      "Version identifier: 12.10.0.0 | 2019-11-27 | 843d4de\n",
      "CPXPARAM_Read_DataCheck                          1\n",
      "CPXPARAM_RandomSeed                              201903125\n",
      "CPXPARAM_TimeLimit                               15\n",
      "Found incumbent of value 5507.568576 after 0.00 sec. (0.06 ticks)\n",
      "Tried aggregator 2 times.\n",
      "MIP Presolve eliminated 25 rows and 0 columns.\n",
      "MIP Presolve modified 300 coefficients.\n",
      "Aggregator did 300 substitutions.\n",
      "Reduced MIP has 350 rows, 975 columns, and 2150 nonzeros.\n",
      "Reduced MIP has 650 binaries, 0 generals, 0 SOSs, and 600 indicators.\n",
      "Presolve time = 0.01 sec. (2.69 ticks)\n",
      "Probing time = 0.01 sec. (5.07 ticks)\n",
      "Tried aggregator 1 time.\n",
      "Detecting symmetries...\n",
      "Reduced MIP has 350 rows, 975 columns, and 2150 nonzeros.\n",
      "Reduced MIP has 650 binaries, 0 generals, 0 SOSs, and 600 indicators.\n",
      "Presolve time = 0.00 sec. (1.54 ticks)\n",
      "Probing time = 0.00 sec. (2.28 ticks)\n",
      "Clique table members: 350.\n",
      "MIP emphasis: balance optimality and feasibility.\n",
      "MIP search method: dynamic search.\n",
      "Parallel mode: deterministic, using up to 8 threads.\n",
      "Root relaxation solution time = 0.00 sec. (0.71 ticks)\n",
      "\n",
      "        Nodes                                         Cuts/\n",
      "   Node  Left     Objective  IInf  Best Integer    Best Bound    ItCnt     Gap\n",
      "\n",
      "*     0+    0                         5507.5686        0.0000           100.00%\n",
      "      0     0      425.5057    24     5507.5686      425.5057       26   92.27%\n",
      "      0     0      480.5871    24     5507.5686      Cuts: 55       74   91.27%\n",
      "      0     0      481.1988    24     5507.5686      Cuts: 69       99   91.26%\n",
      "      0     0      481.1988    24     5507.5686      Cuts: 31      109   91.26%\n",
      "      0     0      481.1988    24     5507.5686   Impl Bds: 1      110   91.26%\n",
      "      0     0      481.1988    24     5507.5686     Cuts: 142      130   91.26%\n",
      "Detecting symmetries...\n",
      "*     0+    0                         2424.6069      481.1988            80.15%\n",
      "*     0+    0                         2229.5277      481.1988            78.42%\n",
      "*     0+    0                         2195.4698      489.8739            77.69%\n",
      "Detecting symmetries...\n",
      "      0     2      481.1988    30     2195.4698      494.9223      130   77.46%\n",
      "Elapsed time = 0.16 sec. (43.20 ticks, tree = 0.02 MB, solutions = 4)\n",
      "*   871+  589                         2179.8946      494.9223            77.30%\n",
      "*   879+  560                         2178.1554      494.9223            77.28%\n",
      "*   944+  589                         2174.3263      494.9223            77.24%\n",
      "\n",
      "Performing restart 1\n",
      "\n",
      "Repeating presolve.\n",
      "Tried aggregator 1 time.\n",
      "Reduced MIP has 350 rows, 975 columns, and 2150 nonzeros.\n",
      "Reduced MIP has 650 binaries, 0 generals, 0 SOSs, and 600 indicators.\n",
      "Presolve time = 0.00 sec. (1.11 ticks)\n",
      "Tried aggregator 1 time.\n",
      "Reduced MIP has 350 rows, 975 columns, and 2150 nonzeros.\n",
      "Reduced MIP has 650 binaries, 0 generals, 0 SOSs, and 600 indicators.\n",
      "Presolve time = 0.00 sec. (1.65 ticks)\n",
      "Represolve time = 0.02 sec. (10.59 ticks)\n",
      "   2038     0      494.9554    48     2174.3263      Cuts: 27    12215   77.24%\n",
      "   2038     0      495.8168    48     2174.3263      Cuts: 39    12237   77.20%\n",
      "   2038     0      497.8076    48     2174.3263     Cuts: 175    12280   77.11%\n",
      "   2038     0      505.6865    48     2174.3263      Cuts: 87    12324   76.74%\n",
      "   2038     0      508.5721    48     2174.3263     Cuts: 154    12352   76.61%\n",
      "   2038     0      508.6599    48     2174.3263      Cuts: 69    12368   76.61%\n",
      "   2038     0      509.4825    48     2174.3263      Cuts: 86    12400   76.57%\n",
      "   2038     0      510.3527    48     2174.3263      Cuts: 72    12420   76.53%\n",
      "   2038     0      510.4733    48     2174.3263      Cuts: 48    12441   76.52%\n",
      "*  2038+    0                         2161.2864      510.4733            76.38%\n",
      "   2038     0      510.7003    48     2161.2864      Cuts: 31    12458   76.37%\n",
      "   2038     0      510.7824    48     2161.2864      Cuts: 68    12471   76.37%\n",
      "   2038     0      510.7835    48     2161.2864      Cuts: 41    12498   76.37%\n",
      "   2038     0      510.9710    48     2161.2864      Cuts: 18    12517   76.36%\n",
      "   2038     0      511.1504    48     2161.2864      Cuts: 97    12541   76.35%\n",
      "   2038     0      511.2164    48     2161.2864      Cuts: 87    12550   76.35%\n",
      "   2038     0      511.3216    48     2161.2864      Cuts: 52    12567   76.34%\n",
      "   2038     0      511.3216    48     2161.2864      Cuts: 37    12579   76.34%\n",
      "   2038     0      511.3742    48     2161.2864      Cuts: 12    12594   76.34%\n",
      "   2038     0      511.5851    48     2161.2864      Cuts: 48    12620   76.33%\n",
      "   2038     0      511.6510    48     2161.2864      Cuts: 37    12658   76.33%\n",
      "   2038     0      511.6510    48     2161.2864      Cuts: 66    12675   76.33%\n",
      "   2038     0      511.6510    48     2161.2864      Cuts: 25    12694   76.33%\n",
      "   2038     2      511.6510    20     2161.2864      511.6510    12694   76.33%\n",
      "   3556  1133     1749.2781     8     2161.2864      515.2846    27843   76.16%\n",
      "   6116  3060     1529.8469    10     2161.2864      526.2402    57364   75.65%\n",
      "   9613  6036     1334.6992    16     2161.2864      530.4990    87495   75.45%\n",
      "  12821  8758    infeasible           2161.2864      536.4428   122004   75.18%\n",
      "  16027 11170     1746.1898     6     2161.2864      539.9129   149993   75.02%\n",
      "  19158 13937     1137.3986    33     2161.2864      541.8670   183887   74.93%\n",
      "  22304 16250     1656.0782     9     2161.2864      543.2025   210160   74.87%\n",
      "  25450 19490      551.7090    38     2161.2864      545.1478   250384   74.78%\n",
      "* 35058+27776                         2153.1654      549.7079            74.47%\n",
      "* 35516+27776                         2121.5204      549.7079            74.09%\n",
      "* 36455+27776                         2112.6805      550.4779            73.94%\n",
      "* 37377+28241                         2107.6769      550.4779            73.88%\n",
      "* 37384+28241                         2080.9944      550.4779            73.55%\n",
      "  37698 29992      556.9654    56     2080.9944      550.4779   379398   73.55%\n",
      "Elapsed time = 5.97 sec. (3392.31 ticks, tree = 17.88 MB, solutions = 12)\n",
      "* 37702+30313                         2077.4067      550.4779            73.50%\n",
      "* 37725+29861                         2075.2201      550.4779            73.47%\n",
      "* 44349+28241                         2074.4604      550.4779            73.46%\n",
      "* 44374+28241                         2057.1008      550.4779            73.24%\n",
      "  44489 34246      616.9528    45     2057.1008      550.4779   455089   73.24%\n",
      "  51725 39776     2022.0608     6     2057.1008      550.4779   534641   73.24%\n",
      "* 54627+28488                         2053.9128      550.4779            73.20%\n",
      "* 55249+28488                         2039.6462      550.4779            73.01%\n",
      "* 55281+28488                         2033.8436      550.4779            72.93%\n",
      "* 55306+28488                         2031.6570      550.4779            72.90%\n",
      "  59856 47177     1709.9255    13     2031.6570      550.4779   640509   72.90%\n",
      "\n",
      "Performing restart 2\n",
      "\n",
      "Repeating presolve.\n",
      "Tried aggregator 1 time.\n",
      "Reduced MIP has 350 rows, 975 columns, and 2150 nonzeros.\n",
      "Reduced MIP has 650 binaries, 0 generals, 0 SOSs, and 600 indicators.\n",
      "Presolve time = 0.00 sec. (1.11 ticks)\n",
      "Tried aggregator 1 time.\n",
      "Reduced MIP has 350 rows, 975 columns, and 2150 nonzeros.\n",
      "Reduced MIP has 650 binaries, 0 generals, 0 SOSs, and 600 indicators.\n",
      "Presolve time = 0.00 sec. (1.65 ticks)\n",
      "Represolve time = 0.05 sec. (24.89 ticks)\n",
      "  68648     0      512.9524    52     2031.6570      Cuts: 19   757497   72.41%\n",
      "  68648     0      513.6692    52     2031.6570      Cuts: 12   757513   72.41%\n",
      "  68648     0      513.8625    52     2031.6570     Cuts: 100   757550   72.41%\n",
      "  68648     0      514.0220    52     2031.6570      Cuts: 21   757567   72.41%\n",
      "  68648     0      514.1048    52     2031.6570      Cuts: 86   757591   72.41%\n",
      "  68648     0      514.1999    52     2031.6570      Cuts: 10   757599   72.41%\n",
      "  68648     0      514.8337    52     2031.6570      Cuts: 90   757624   72.41%\n",
      "  68648     0      516.0361    52     2031.6570     Cuts: 114   757673   72.41%\n",
      "  68648     0      516.3419    52     2031.6570      Cuts: 41   757709   72.41%\n",
      "  68648     0      516.3419    52     2031.6570      Cuts: 30   757736   72.41%\n"
     ]
    },
    {
     "name": "stdout",
     "output_type": "stream",
     "text": [
      "  68648     2      516.3419    48     2031.6570      560.4580   757736   72.41%\n",
      "Starting limited solution polishing.\n",
      "* 71855+ 2359                         2028.3760      560.4580            72.37%\n",
      "  73764  3825     1157.1208     8     2028.3760      560.4580   809943   72.37%\n",
      "\n",
      "Clique cuts applied:  6\n",
      "Cover cuts applied:  70\n",
      "Implied bound cuts applied:  154\n",
      "Flow cuts applied:  2\n",
      "Mixed integer rounding cuts applied:  22\n",
      "Zero-half cuts applied:  31\n",
      "Gomory fractional cuts applied:  28\n",
      "\n",
      "Root node processing (before b&c):\n",
      "  Real time             =    0.15 sec. (43.21 ticks)\n",
      "Parallel b&c, 8 threads:\n",
      "  Real time             =   14.86 sec. (8325.56 ticks)\n",
      "  Sync time (average)   =    2.34 sec.\n",
      "  Wait time (average)   =    0.03 sec.\n",
      "                          ------------\n",
      "Total (root+branch&cut) =   15.01 sec. (8368.76 ticks)\n"
     ]
    }
   ],
   "source": [
    "md1.minimize(md1.sum(c[i,j]*x[i,j] for i,j in A))\n",
    "md1.add_constraints(md1.sum(x[i,j] for j in V if j!=i)==1 for i in N)\n",
    "md1.add_constraints(md1.sum(x[i,j] for i in V if i!=j)==1 for j in N)\n",
    "md1.add_indicator_constraints(md1.indicator_constraint(x[i,j], u[i]+q[j]==u[j]) for i,j in A if i!=0 and j!=0)\n",
    "md1.add_constraints(u[i]>=q[i] for i in N)\n",
    "md1.parameters.timelimit = 15\n",
    "solution = md1.solve(log_output=True)"
   ]
  },
  {
   "cell_type": "code",
   "execution_count": 14,
   "metadata": {},
   "outputs": [
    {
     "name": "stdout",
     "output_type": "stream",
     "text": [
      "solution for: CVRP\n",
      "objective: 2028.38\n",
      "x_0_2=1\n",
      "x_0_4=1\n",
      "x_0_5=1\n",
      "x_0_13=1\n",
      "x_0_18=1\n",
      "x_0_20=1\n",
      "x_0_21=1\n",
      "x_0_25=1\n",
      "x_1_22=1\n",
      "x_2_7=1\n",
      "x_3_24=1\n",
      "x_4_9=1\n",
      "x_5_8=1\n",
      "x_6_14=1\n",
      "x_7_23=1\n",
      "x_8_10=1\n",
      "x_9_12=1\n",
      "x_10_0=1\n",
      "x_11_16=1\n",
      "x_12_0=1\n",
      "x_13_15=1\n",
      "x_14_0=1\n",
      "x_15_19=1\n",
      "x_16_0=1\n",
      "x_17_3=1\n",
      "x_18_1=1\n",
      "x_19_0=1\n",
      "x_20_17=1\n",
      "x_21_0=1\n",
      "x_22_0=1\n",
      "x_23_6=1\n",
      "x_24_0=1\n",
      "x_25_11=1\n",
      "u_1=15.000\n",
      "u_2=4.000\n",
      "u_3=19.000\n",
      "u_4=4.000\n",
      "u_5=9.000\n",
      "u_6=18.000\n",
      "u_7=10.000\n",
      "u_8=12.000\n",
      "u_9=9.000\n",
      "u_10=20.000\n",
      "u_11=12.000\n",
      "u_12=18.000\n",
      "u_13=9.000\n",
      "u_14=20.000\n",
      "u_15=16.000\n",
      "u_16=20.000\n",
      "u_17=15.000\n",
      "u_18=9.000\n",
      "u_19=18.000\n",
      "u_20=7.000\n",
      "u_21=9.000\n",
      "u_22=20.000\n",
      "u_23=14.000\n",
      "u_24=20.000\n",
      "u_25=5.000\n",
      "\n"
     ]
    }
   ],
   "source": [
    "print(solution)"
   ]
  },
  {
   "cell_type": "code",
   "execution_count": 15,
   "metadata": {},
   "outputs": [],
   "source": [
    "active_arcs = [a for a in A if x[a].solution_value>0.9]"
   ]
  },
  {
   "cell_type": "code",
   "execution_count": 16,
   "metadata": {},
   "outputs": [
    {
     "data": {
      "text/plain": [
       "[(0, 2),\n",
       " (0, 4),\n",
       " (0, 5),\n",
       " (0, 13),\n",
       " (0, 18),\n",
       " (0, 20),\n",
       " (0, 21),\n",
       " (0, 25),\n",
       " (1, 22),\n",
       " (2, 7),\n",
       " (3, 24),\n",
       " (4, 9),\n",
       " (5, 8),\n",
       " (6, 14),\n",
       " (7, 23),\n",
       " (8, 10),\n",
       " (9, 12),\n",
       " (10, 0),\n",
       " (11, 16),\n",
       " (12, 0),\n",
       " (13, 15),\n",
       " (14, 0),\n",
       " (15, 19),\n",
       " (16, 0),\n",
       " (17, 3),\n",
       " (18, 1),\n",
       " (19, 0),\n",
       " (20, 17),\n",
       " (21, 0),\n",
       " (22, 0),\n",
       " (23, 6),\n",
       " (24, 0),\n",
       " (25, 11)]"
      ]
     },
     "execution_count": 16,
     "metadata": {},
     "output_type": "execute_result"
    }
   ],
   "source": [
    "active_arcs"
   ]
  },
  {
   "cell_type": "code",
   "execution_count": 17,
   "metadata": {},
   "outputs": [
    {
     "data": {
      "image/png": "[encoded data removed]",
      "text/plain": [
       "<Figure size 432x288 with 1 Axes>"
      ]
     },
     "metadata": {
      "needs_background": "light"
     },
     "output_type": "display_data"
    }
   ],
   "source": [
    "plt.scatter(loc_x[1:], loc_y[1:], c='b')\n",
    "for i in N:\n",
    "    plt.annotate('$q_%d=%d$' %(i,q[i]), (loc_x[i]+2,loc_y[i]))\n",
    "for i,j in active_arcs:\n",
    "    plt.plot([loc_x[i], loc_x[j]], [loc_y[i], loc_y[j]], c='g', alpha=0.3)\n",
    "plt.plot(loc_x[0], loc_y[0], c='r', marker='s')\n",
    "plt.axis('equal');"
   ]
  },
  {
   "cell_type": "code",
   "execution_count": null,
   "metadata": {},
   "outputs": [],
   "source": []
  }
 ],
 "metadata": {
  "kernelspec": {
   "display_name": "Python 3",
   "language": "python",
   "name": "python3"
  },
  "language_info": {
   "codemirror_mode": {
    "name": "ipython",
    "version": 3
   },
   "file_extension": ".py",
   "mimetype": "text/x-python",
   "name": "python",
   "nbconvert_exporter": "python",
   "pygments_lexer": "ipython3",
   "version": "3.7.6"
  }
 },
 "nbformat": 4,
 "nbformat_minor": 4
}
